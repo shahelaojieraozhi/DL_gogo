{
 "cells": [
  {
   "cell_type": "markdown",
   "id": "996d7ae1",
   "metadata": {},
   "source": [
    "数据相当于垃圾\n",
    "Dataset是为了把一些可回收的垃圾提取出来，并且给予它们编号，然后我们能从编号获取到特定的垃圾和label\n",
    "(提供一种方式去获取数据极其label)\n",
    "\n",
    "会有以下功能：\n",
    "1.如何获取每一个数据极其label；\n",
    "2.告诉我们总共有多少数据。\n",
    "\n",
    "\n",
    "Dataloader把那些可回收的垃圾打包(为后面的网络提供不同的数据形式)\n",
    "\n",
    "\n"
   ]
  },
  {
   "cell_type": "code",
   "execution_count": null,
   "id": "51d7dc20",
   "metadata": {},
   "outputs": [],
   "source": []
  },
  {
   "cell_type": "code",
   "execution_count": null,
   "id": "d1569a73",
   "metadata": {},
   "outputs": [],
   "source": []
  },
  {
   "cell_type": "code",
   "execution_count": null,
   "id": "6f61f271",
   "metadata": {},
   "outputs": [],
   "source": []
  }
 ],
 "metadata": {
  "kernelspec": {
   "display_name": "Python [conda env:Pytorch] *",
   "language": "python",
   "name": "conda-env-Pytorch-py"
  },
  "language_info": {
   "codemirror_mode": {
    "name": "ipython",
    "version": 3
   },
   "file_extension": ".py",
   "mimetype": "text/x-python",
   "name": "python",
   "nbconvert_exporter": "python",
   "pygments_lexer": "ipython3",
   "version": "3.7.12"
  }
 },
 "nbformat": 4,
 "nbformat_minor": 5
}
