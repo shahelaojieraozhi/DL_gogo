{
 "cells": [
  {
   "cell_type": "markdown",
   "metadata": {},
   "source": [
    "# MobileNet处理视频文件，生成新视频\n",
    "\n",
    ">同济大学 张子豪 2021-09-23\n",
    "\n",
    "视频教程：同济子豪兄 https://space.bilibili.com/1900783"
   ]
  },
  {
   "cell_type": "markdown",
   "metadata": {},
   "source": [
    "# 导入工具包、预训练模型"
   ]
  },
  {
   "cell_type": "code",
   "execution_count": 4,
   "metadata": {},
   "outputs": [],
   "source": [
    "# 导入工具包\n",
    "\n",
    "# 进度条库\n",
    "from tqdm import tqdm\n",
    "\n",
    "# 时间库\n",
    "import time\n",
    "\n",
    "import numpy as np\n",
    "\n",
    "# 导入opencv-python\n",
    "import cv2\n",
    "\n",
    "# 载入图像处理、预处理、解码预测结果的辅助函数\n",
    "from tensorflow.keras.preprocessing import image\n",
    "from tensorflow.keras.applications.mobilenet import preprocess_input, decode_predictions\n",
    "\n",
    "# 载入预训练模型，执行图像分类\n",
    "\n",
    "# # 导入MobileNet V1\n",
    "# from tensorflow.keras.applications import MobileNet\n",
    "# model = MobileNet(alpha=1.0,                      # MobileNet论文中的宽度超参数\n",
    "#                 depth_multiplier=1,               # MobileNet论文中的分辨率超参数\n",
    "#                 include_top=True,                 # 是否包含最后的全连接分类层\n",
    "#                 weights=\"imagenet\",               # 权重默认为ImageNet一千类图像分类\n",
    "#                 classes=1000                      # 1000个类别\n",
    "# )\n",
    "\n",
    "# 导入MobileNet V2\n",
    "from tensorflow.keras.applications import MobileNetV2\n",
    "model = MobileNetV2(alpha=1.0,                      # MobileNet论文中的宽度超参数\n",
    "                include_top=True,                 # 是否包含最后的全连接分类层\n",
    "                weights=\"imagenet\",               # 权重默认为ImageNet一千类图像分类\n",
    "                classes=1000                      # 1000个类别\n",
    ")\n",
    "\n",
    "# # 导入ResNet50\n",
    "# from tensorflow.keras.applications import ResNet50\n",
    "# from tensorflow.keras.applications.resnet50 import preprocess_input, decode_predictions\n",
    "# model = ResNet50(include_top=True,weights=\"imagenet\",classes=1000)"
   ]
  },
  {
   "cell_type": "markdown",
   "metadata": {},
   "source": [
    "# 处理单帧图像的函数"
   ]
  },
  {
   "cell_type": "code",
   "execution_count": 5,
   "metadata": {},
   "outputs": [],
   "source": [
    "def process_frame(img):\n",
    "    \n",
    "    '''\n",
    "    B站：同济子豪兄（https://space.bilibili.com/1900783）\n",
    "\n",
    "    微信公众号：人工智能小技巧\n",
    "    '''\n",
    "    \n",
    "    # 记录该帧开始处理的时间\n",
    "    start_time = time.time()\n",
    "    \n",
    "    #################################################\n",
    "    \n",
    "    img_copy = img\n",
    "    \n",
    "    # BGR转RGB\n",
    "    img = cv2.cvtColor(img, cv2.COLOR_BGR2RGB)\n",
    "    # 缩放至224x224\n",
    "    img = cv2.resize(img, (224,224))\n",
    "    x = np.expand_dims(img, axis=0)\n",
    "    # 预处理\n",
    "    x = preprocess_input(x)\n",
    "\n",
    "    # 获取图像分类预测结果\n",
    "    preds = model.predict(x)\n",
    "    results = decode_predictions(preds, top=5)\n",
    "    \n",
    "    # 遍历results变量中的每一个元素，写在原图左上角\n",
    "    for idx, result in enumerate(results[0]): \n",
    "        text1 = '{:<10} {:>.4f}'.format(result[1], result[2])\n",
    "\n",
    "        # !图片，添加的文字，左上角坐标，字体，字体大小，颜色，字体粗细\n",
    "        img = cv2.putText(img_copy, text1, (25, 80 + 40 * idx), cv2.FONT_HERSHEY_SIMPLEX, 1.25, (255, 255, 255), 2)\n",
    "    #################################################\n",
    "            \n",
    "    # 记录该帧处理完毕的时间\n",
    "    end_time = time.time()\n",
    "    # 计算每秒处理图像帧数FPS\n",
    "    FPS = 1/(end_time - start_time)\n",
    "    \n",
    "    scaler = 1\n",
    "    # 在图像上写FPS数值，参数依次为：图片，添加的文字，左上角坐标，字体，字体大小，颜色，字体粗细\n",
    "    img = cv2.putText(img_copy, 'FPS  '+str(int(FPS)), (25 * scaler, 50 * scaler), cv2.FONT_HERSHEY_SIMPLEX, 1.25 * scaler, (255, 0, 255), 2 * scaler)\n",
    "    \n",
    "    return img_copy"
   ]
  },
  {
   "cell_type": "markdown",
   "metadata": {},
   "source": [
    "# 视频逐帧处理（模板）"
   ]
  },
  {
   "cell_type": "code",
   "execution_count": 6,
   "metadata": {},
   "outputs": [],
   "source": [
    "# 视频逐帧处理代码模板\n",
    "# 不需修改任何代码，只需定义process_frame函数即可\n",
    "# 同济子豪兄 2021-7-10\n",
    "\n",
    "def generate_video(input_path='./videos/three-hands.mp4'):\n",
    "    filehead = input_path.split('/')[-1]\n",
    "    output_path = \"out-\" + filehead\n",
    "    \n",
    "    print('视频开始处理',input_path)\n",
    "    \n",
    "    # 获取视频总帧数\n",
    "    cap = cv2.VideoCapture(input_path)\n",
    "    frame_count = 0\n",
    "    while(cap.isOpened()):\n",
    "        success, frame = cap.read()\n",
    "        frame_count += 1\n",
    "        if not success:\n",
    "            break\n",
    "    cap.release()\n",
    "    print('视频总帧数为',frame_count)\n",
    "    \n",
    "    # cv2.namedWindow('Crack Detection and Measurement Video Processing')\n",
    "    cap = cv2.VideoCapture(input_path)\n",
    "    frame_size = (cap.get(cv2.CAP_PROP_FRAME_WIDTH), cap.get(cv2.CAP_PROP_FRAME_HEIGHT))\n",
    "\n",
    "    # fourcc = int(cap.get(cv2.CAP_PROP_FOURCC))\n",
    "    # fourcc = cv2.VideoWriter_fourcc(*'XVID')\n",
    "    fourcc = cv2.VideoWriter_fourcc(*'mp4v')\n",
    "    fps = cap.get(cv2.CAP_PROP_FPS)\n",
    "\n",
    "    out = cv2.VideoWriter(output_path, fourcc, fps, (int(frame_size[0]), int(frame_size[1])))\n",
    "    \n",
    "    # 进度条绑定视频总帧数\n",
    "    with tqdm(total=frame_count-1) as pbar:\n",
    "        try:\n",
    "            while(cap.isOpened()):\n",
    "                success, frame = cap.read()\n",
    "                if not success:\n",
    "                    break\n",
    "\n",
    "                # 处理帧\n",
    "                # frame_path = './temp_frame.png'\n",
    "                # cv2.imwrite(frame_path, frame)\n",
    "                try:\n",
    "                    frame = process_frame(frame)\n",
    "                except:\n",
    "                    print('error')\n",
    "                    pass\n",
    "                \n",
    "                if success == True:\n",
    "                    # cv2.imshow('Video Processing', frame)\n",
    "                    out.write(frame)\n",
    "\n",
    "                    # 进度条更新一帧\n",
    "                    pbar.update(1)\n",
    "\n",
    "                # if cv2.waitKey(1) & 0xFF == ord('q'):\n",
    "                    # break\n",
    "        except:\n",
    "            print('中途中断')\n",
    "            pass\n",
    "\n",
    "    cv2.destroyAllWindows()\n",
    "    out.release()\n",
    "    cap.release()\n",
    "    print('视频已保存', output_path)"
   ]
  },
  {
   "cell_type": "code",
   "execution_count": 11,
   "metadata": {},
   "outputs": [
    {
     "name": "stdout",
     "output_type": "stream",
     "text": [
      "视频开始处理 ./video-3.mp4\n"
     ]
    },
    {
     "name": "stderr",
     "output_type": "stream",
     "text": [
      "  1%|          | 2/300 [00:00<00:20, 14.49it/s]"
     ]
    },
    {
     "name": "stdout",
     "output_type": "stream",
     "text": [
      "视频总帧数为 301\n"
     ]
    },
    {
     "name": "stderr",
     "output_type": "stream",
     "text": [
      "100%|██████████| 300/300 [00:18<00:00, 16.41it/s]"
     ]
    },
    {
     "name": "stdout",
     "output_type": "stream",
     "text": [
      "视频已保存 out-video-3.mp4\n"
     ]
    },
    {
     "name": "stderr",
     "output_type": "stream",
     "text": [
      "\n"
     ]
    }
   ],
   "source": [
    "generate_video(input_path='./video-1.mp4')"
   ]
  },
  {
   "cell_type": "code",
   "execution_count": null,
   "metadata": {},
   "outputs": [],
   "source": []
  }
 ],
 "metadata": {
  "kernelspec": {
   "display_name": "Python 3",
   "language": "python",
   "name": "python3"
  },
  "language_info": {
   "codemirror_mode": {
    "name": "ipython",
    "version": 3
   },
   "file_extension": ".py",
   "mimetype": "text/x-python",
   "name": "python",
   "nbconvert_exporter": "python",
   "pygments_lexer": "ipython3",
   "version": "3.7.2"
  }
 },
 "nbformat": 4,
 "nbformat_minor": 5
}
